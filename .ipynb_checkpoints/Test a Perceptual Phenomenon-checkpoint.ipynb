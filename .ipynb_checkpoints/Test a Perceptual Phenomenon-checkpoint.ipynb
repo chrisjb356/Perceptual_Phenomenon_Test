{
 "cells": [
  {
   "cell_type": "markdown",
   "metadata": {},
   "source": [
    "### Analyzing the Stroop Effect\n",
    "Perform the analysis in the space below. Remember to follow [the instructions](https://docs.google.com/document/d/1-OkpZLjG_kX9J6LIQ5IltsqMzVWjh36QpnP2RYpVdPU/pub?embedded=True) and review the [project rubric](https://review.udacity.com/#!/rubrics/71/view) before submitting. Once you've completed the analysis and write up, download this file as a PDF or HTML file and submit in the next section.\n",
    "\n",
    "\n",
    "(1) What is the independent variable? What is the dependent variable?"
   ]
  },
  {
   "cell_type": "markdown",
   "metadata": {},
   "source": [
    "<br>**Independent Variable** \n",
    "<br> The variable that is changed in a specific way to examine the change to the dependent variable. In this experiment, the independent variable that is the control variable is the selection of either a Congruent or Incongruent test set.\n",
    "<br>\n",
    "<br>**Dependent Variable** \n",
    "<br> The the variable that is measured as part of the experiement when the independent variable is changed in a controlled way. In this experiment, the dependent variable that is measured as the control variable is changed is the timed response from the subject for eith the Congruent or Incongruent test set.\n"
   ]
  },
  {
   "cell_type": "markdown",
   "metadata": {},
   "source": [
    "(2) What is an appropriate set of hypotheses for this task? What kind of statistical test do you expect to perform? Justify your choices."
   ]
  },
  {
   "cell_type": "markdown",
   "metadata": {},
   "source": [
    "<br>**Null Hypothesis ($H_0$)**\n",
    "<br> The null hypothesis in this experiment is the hypothesis that there is no statistical difference in the time response from the population during a congruent test versus an incongruent test. This is expressed in mathematical terms below.\n",
    "<br>\n",
    "<br>\n",
    "$$H_0: \\mu congruent = \\mu incongruent$$\n",
    "<br>**Alternative Hypothesis ($H_1$)** \n",
    "<br> The alternative hypothesis in this experiment is the hypothesis that there is a statistical difference in the time response from the population during a congruent test versus an incongruent test. This is expressed in mathematical terms below.\n",
    "<br>\n",
    "<br>\n",
    "$$H_1: \\mu congruent  \\neq \\mu incongruent$$\n",
    "<br>**Statistical Test** \n",
    "- Paired T-Test would be the most appropiate, as the two samples are essentially connected because it will be the same individual conducting the test twice and so would improve their score therefore we will need a dependent t-test. \n",
    "- T-test will also highlight whether the result is statistically significant to satisfy our hypotheses. \n",
    "- Furthermore we only have a sample of the total polulation with no information on the population variables such as the standard deviation which is needed for a z-test. \n",
    "- Finally, our sample is below 30 so we cannot rely on normal distribution and require the t-distribution instead as part of the t-test."
   ]
  },
  {
   "cell_type": "markdown",
   "metadata": {},
   "source": [
    "(3) Report some descriptive statistics regarding this dataset. Include at least one measure of central tendency and at least one measure of variability. The name of the data file is 'stroopdata.csv'."
   ]
  },
  {
   "cell_type": "code",
   "execution_count": 1,
   "metadata": {
    "collapsed": true
   },
   "outputs": [],
   "source": [
    "# Import Packages\n",
    "import csv\n",
    "import pandas as pd\n",
    "import numpy as np\n",
    "import matplotlib.pyplot as plt\n",
    "import math\n",
    "\n",
    "% matplotlib inline"
   ]
  },
  {
   "cell_type": "code",
   "execution_count": 2,
   "metadata": {},
   "outputs": [
    {
     "data": {
      "text/html": [
       "<div>\n",
       "<style>\n",
       "    .dataframe thead tr:only-child th {\n",
       "        text-align: right;\n",
       "    }\n",
       "\n",
       "    .dataframe thead th {\n",
       "        text-align: left;\n",
       "    }\n",
       "\n",
       "    .dataframe tbody tr th {\n",
       "        vertical-align: top;\n",
       "    }\n",
       "</style>\n",
       "<table border=\"1\" class=\"dataframe\">\n",
       "  <thead>\n",
       "    <tr style=\"text-align: right;\">\n",
       "      <th></th>\n",
       "      <th>Congruent</th>\n",
       "      <th>Incongruent</th>\n",
       "      <th>Subject</th>\n",
       "    </tr>\n",
       "  </thead>\n",
       "  <tbody>\n",
       "    <tr>\n",
       "      <th>0</th>\n",
       "      <td>12.079</td>\n",
       "      <td>19.278</td>\n",
       "      <td>1</td>\n",
       "    </tr>\n",
       "    <tr>\n",
       "      <th>1</th>\n",
       "      <td>16.791</td>\n",
       "      <td>18.741</td>\n",
       "      <td>2</td>\n",
       "    </tr>\n",
       "    <tr>\n",
       "      <th>2</th>\n",
       "      <td>9.564</td>\n",
       "      <td>21.214</td>\n",
       "      <td>3</td>\n",
       "    </tr>\n",
       "    <tr>\n",
       "      <th>3</th>\n",
       "      <td>8.630</td>\n",
       "      <td>15.687</td>\n",
       "      <td>4</td>\n",
       "    </tr>\n",
       "    <tr>\n",
       "      <th>4</th>\n",
       "      <td>14.669</td>\n",
       "      <td>22.803</td>\n",
       "      <td>5</td>\n",
       "    </tr>\n",
       "  </tbody>\n",
       "</table>\n",
       "</div>"
      ],
      "text/plain": [
       "   Congruent  Incongruent  Subject\n",
       "0     12.079       19.278        1\n",
       "1     16.791       18.741        2\n",
       "2      9.564       21.214        3\n",
       "3      8.630       15.687        4\n",
       "4     14.669       22.803        5"
      ]
     },
     "execution_count": 2,
     "metadata": {},
     "output_type": "execute_result"
    }
   ],
   "source": [
    "# Perform the analysis here\n",
    "\n",
    "# Import Data\n",
    "df = pd.read_csv('C:\\\\Users\\\\Chris\\Documents\\\\Git_Projects\\\\Perceptual_Phenomenon\\\\Data\\\\stroopdata.csv')\n",
    "\n",
    "# Create df\n",
    "df['Subject'] = df.index+1\n",
    "df.head()\n"
   ]
  },
  {
   "cell_type": "code",
   "execution_count": 3,
   "metadata": {},
   "outputs": [
    {
     "data": {
      "text/plain": [
       "14.051125000000004"
      ]
     },
     "execution_count": 3,
     "metadata": {},
     "output_type": "execute_result"
    }
   ],
   "source": [
    "# Calculate Congruent Mean\n",
    "con_mean = df['Congruent'].mean()\n",
    "con_mean"
   ]
  },
  {
   "cell_type": "code",
   "execution_count": 4,
   "metadata": {},
   "outputs": [
    {
     "data": {
      "text/plain": [
       "22.01591666666667"
      ]
     },
     "execution_count": 4,
     "metadata": {},
     "output_type": "execute_result"
    }
   ],
   "source": [
    "# Calculate Incongruent Mean\n",
    "incon_mean = df['Incongruent'].mean()\n",
    "incon_mean"
   ]
  },
  {
   "cell_type": "code",
   "execution_count": 5,
   "metadata": {},
   "outputs": [
    {
     "data": {
      "text/plain": [
       "12.669029070652174"
      ]
     },
     "execution_count": 5,
     "metadata": {},
     "output_type": "execute_result"
    }
   ],
   "source": [
    "# Calculate Congruent Variance\n",
    "con_var = df['Congruent'].var()\n",
    "con_var"
   ]
  },
  {
   "cell_type": "code",
   "execution_count": 6,
   "metadata": {},
   "outputs": [
    {
     "data": {
      "text/plain": [
       "23.011757036231884"
      ]
     },
     "execution_count": 6,
     "metadata": {},
     "output_type": "execute_result"
    }
   ],
   "source": [
    "# Calculate Incongruent Variance\n",
    "incon_var = df['Incongruent'].var()\n",
    "incon_var"
   ]
  },
  {
   "cell_type": "markdown",
   "metadata": {},
   "source": [
    "(4) Provide one or two visualizations that show the distribution of the sample data. Write one or two sentences noting what you observe about the plot or plots."
   ]
  },
  {
   "cell_type": "code",
   "execution_count": 7,
   "metadata": {
    "collapsed": true
   },
   "outputs": [],
   "source": [
    "# Build the visualizations here"
   ]
  },
  {
   "cell_type": "code",
   "execution_count": 8,
   "metadata": {},
   "outputs": [
    {
     "name": "stderr",
     "output_type": "stream",
     "text": [
      "C:\\Users\\Chris\\Anaconda3\\lib\\site-packages\\matplotlib\\cbook\\deprecation.py:106: MatplotlibDeprecationWarning: Adding an axes using the same arguments as a previous axes currently reuses the earlier instance.  In a future version, a new instance will always be created and returned.  Meanwhile, this warning can be suppressed, and the future behavior ensured, by passing a unique label to each axes instance.\n",
      "  warnings.warn(message, mplDeprecation, stacklevel=1)\n"
     ]
    },
    {
     "data": {
      "image/png": "[encoded data removed]",
      "text/plain": [
       "<matplotlib.figure.Figure at 0xa241860>"
      ]
     },
     "metadata": {},
     "output_type": "display_data"
    }
   ],
   "source": [
    "# Congruent Scatter Visualisation\n",
    "\n",
    "x= df['Subject']; y= df['Congruent']\n",
    "plt.scatter(x,y)\n",
    "plt.title(\"Response Time by Subject for Congruent Test\")\n",
    "plt.xlabel(\"Subject\")\n",
    "plt.ylabel(\"Response Time (s)\")\n",
    "ax = plt.subplot(111)\n",
    "ax.set_ylim(0,40)\n",
    "\n",
    "plt.show()"
   ]
  },
  {
   "cell_type": "code",
   "execution_count": 9,
   "metadata": {},
   "outputs": [
    {
     "name": "stderr",
     "output_type": "stream",
     "text": [
      "C:\\Users\\Chris\\Anaconda3\\lib\\site-packages\\matplotlib\\cbook\\deprecation.py:106: MatplotlibDeprecationWarning: Adding an axes using the same arguments as a previous axes currently reuses the earlier instance.  In a future version, a new instance will always be created and returned.  Meanwhile, this warning can be suppressed, and the future behavior ensured, by passing a unique label to each axes instance.\n",
      "  warnings.warn(message, mplDeprecation, stacklevel=1)\n"
     ]
    },
    {
     "data": {
      "image/png": "[encoded data removed]",
      "text/plain": [
       "<matplotlib.figure.Figure at 0xa3b3b38>"
      ]
     },
     "metadata": {},
     "output_type": "display_data"
    }
   ],
   "source": [
    "# Incongruent Scatter Visualisation\n",
    "\n",
    "x= df['Subject']; y= df['Incongruent']\n",
    "plt.scatter(x,y)\n",
    "plt.title(\"Response Time by Subject for Incongruent Test\")\n",
    "plt.xlabel(\"Subject\")\n",
    "plt.ylabel(\"Response Time (s)\")\n",
    "ax = plt.subplot(111)\n",
    "ax.set_ylim(0,40)\n",
    "\n",
    "plt.show()"
   ]
  },
  {
   "cell_type": "markdown",
   "metadata": {},
   "source": [
    "**Observation**\n",
    "<br>The data points on both visualisation are mostly distributed around the mean value shown in Q3. However, there appears to be two outliers which include Subjects 14 and 19 in the Incongruent Test visualisation with a timed response of 35.255 and 34.288 seconds respectively."
   ]
  },
  {
   "cell_type": "markdown",
   "metadata": {},
   "source": [
    "(5) Now, perform the statistical test and report the results. What is the confidence level and your critical statistic value? Do you reject the null hypothesis or fail to reject it? Come to a conclusion in terms of the experiment task. Did the results match up with your expectations?"
   ]
  },
  {
   "cell_type": "markdown",
   "metadata": {
    "collapsed": true
   },
   "source": [
    "**Assumptions and Prerequisites**\n",
    "- Type 1 Error = 0.05 (5%)\n",
    "- Two-tail test \n",
    "- Confidence Interval = 90%\n",
    "- dof = 23 (n-1)\n",
    "- Critical T-value = 1.714 (extracted from http://www.statisticshowto.com/tables/t-distribution-table/)"
   ]
  },
  {
   "cell_type": "code",
   "execution_count": 17,
   "metadata": {
    "collapsed": true
   },
   "outputs": [],
   "source": [
    "# Establish critical t-score, n and degree of freedom variables\n",
    "t_crit = 1.714\n",
    "n = len(df)\n",
    "dof = n-1"
   ]
  },
  {
   "cell_type": "code",
   "execution_count": 18,
   "metadata": {
    "collapsed": true
   },
   "outputs": [],
   "source": [
    "# Create difference column\n",
    "df['Diff'] = df['Congruent'] - df['Incongruent']"
   ]
  },
  {
   "cell_type": "code",
   "execution_count": 19,
   "metadata": {
    "collapsed": true
   },
   "outputs": [],
   "source": [
    "# Create sum of differences\n",
    "sum_diff = df['Diff'].sum()"
   ]
  },
  {
   "cell_type": "code",
   "execution_count": 20,
   "metadata": {
    "collapsed": true
   },
   "outputs": [],
   "source": [
    "# Create difference squared column\n",
    "df['Diff_sq'] = df['Diff'] * df['Diff']"
   ]
  },
  {
   "cell_type": "code",
   "execution_count": 21,
   "metadata": {
    "collapsed": true
   },
   "outputs": [],
   "source": [
    "# Create sum of difference squared\n",
    "sum_diff_sq = df['Diff_sq'].sum()"
   ]
  },
  {
   "cell_type": "code",
   "execution_count": 22,
   "metadata": {},
   "outputs": [
    {
     "data": {
      "text/plain": [
       "-8.020706944109957"
      ]
     },
     "execution_count": 22,
     "metadata": {},
     "output_type": "execute_result"
    }
   ],
   "source": [
    "# Calculate t-score\n",
    "t_score = ((sum_diff)/n)/(math.sqrt((sum_diff_sq-((sum_diff**2)/n))/(dof*n))) \n",
    "t_score"
   ]
  },
  {
   "cell_type": "code",
   "execution_count": 23,
   "metadata": {},
   "outputs": [
    {
     "data": {
      "text/plain": [
       "True"
      ]
     },
     "execution_count": 23,
     "metadata": {},
     "output_type": "execute_result"
    }
   ],
   "source": [
    "# Score test\n",
    "abs(t_score) > abs(t_crit)"
   ]
  },
  {
   "cell_type": "markdown",
   "metadata": {},
   "source": [
    "**Conclusion** \n",
    "<br>If the calculated t-score is higher than the critcal t-score from the distributon table, then the p-value observed is less than >the 5% alpha threshold and therefore the observed difference is not due to random chance. i.e if `t_score > t_crit = True`, then we can reject the null hypothesis.\n",
    "<br>\n",
    "<br> Based on the test above, the test shows that the increased time response on the Incongruent test is statistically significant and the null hypothesis can be rejected. "
   ]
  },
  {
   "cell_type": "markdown",
   "metadata": {},
   "source": [
    "### Resources\n",
    "- https://pandas.pydata.org/pandas-docs/stable/generated/pandas.DataFrame.var.html\n",
    "- https://stackoverflow.com/questions/34404495/limit-range-on-x-axis-scatter-plot-pandas-matplotlib\n",
    "- http://www.statisticshowto.com/probability-and-statistics/t-test/\n",
    "- http://www.statisticshowto.com/tables/t-distribution-table/\n",
    "- https://stackoverflow.com/questions/41286569/get-total-of-pandas-column\n",
    "- https://stackoverflow.com/questions/9595135/how-to-calc-square-root-in-python\n",
    "- http://www.statisticshowto.com/probability-and-statistics/hypothesis-testing/t-score-vs-z-score/"
   ]
  },
  {
   "cell_type": "code",
   "execution_count": null,
   "metadata": {
    "collapsed": true
   },
   "outputs": [],
   "source": []
  }
 ],
 "metadata": {
  "kernelspec": {
   "display_name": "Python 3",
   "language": "python",
   "name": "python3"
  },
  "language_info": {
   "codemirror_mode": {
    "name": "ipython",
    "version": 3
   },
   "file_extension": ".py",
   "mimetype": "text/x-python",
   "name": "python",
   "nbconvert_exporter": "python",
   "pygments_lexer": "ipython3",
   "version": "3.6.3"
  }
 },
 "nbformat": 4,
 "nbformat_minor": 2
}
